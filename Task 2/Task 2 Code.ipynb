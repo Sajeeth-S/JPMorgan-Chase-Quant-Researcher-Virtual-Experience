{
 "cells": [
  {
   "cell_type": "markdown",
   "metadata": {},
   "source": [
    "# JPMorgan & Chase Co. - Quant Researcher Experience\n",
    "## Task 2: Price a commodity storage contract"
   ]
  },
  {
   "cell_type": "markdown",
   "metadata": {},
   "source": [
    "Suppose we have the following input parameters:\n",
    "1. Injection dates \n",
    "2. Withdrawal dates\n",
    "3. The prices at which the commodity can be purchased/sold on those dates\n",
    "4. The volumes being injected\n",
    "5. The volumes being withdrawn\n",
    "6. The maximum volume that can be stored\n",
    "7. Injection/Withdrawal costs\n",
    "8. Storage costs\n",
    "9. Transport costs\n",
    "\n",
    "Recall that we assume that transport,buying and selling times are instantaneous, interest rates are zero and we can ignore market holidays, weekends and bank holidays."
   ]
  },
  {
   "cell_type": "code",
   "execution_count": 189,
   "metadata": {},
   "outputs": [],
   "source": [
    "import pandas as pd\n",
    "import numpy as np\n",
    "import datetime as datetime\n",
    "from dateutil.relativedelta import relativedelta"
   ]
  },
  {
   "cell_type": "code",
   "execution_count": 190,
   "metadata": {},
   "outputs": [],
   "source": [
    "NatGas = pd.read_csv('/Users/Sajeeth/Documents/Quant Experience/Task 2/Future_Nat_gas.csv')\n",
    "NatGas.set_index('Dates',inplace=True)"
   ]
  },
  {
   "cell_type": "code",
   "execution_count": 191,
   "metadata": {},
   "outputs": [],
   "source": [
    "# Firstly, we will adapt our function from Task 1 to find the price of natural gas at any given date between the first and last date in the dataframe\n",
    "def PriceFinder(date):\n",
    "    date1 = pd.to_datetime(date).date()\n",
    "    date2 = pd.to_datetime(date).date() - datetime.timedelta(days=date1.day)\n",
    "    date3 = date1 + relativedelta(months=1)\n",
    "    date4 = date3 - datetime.timedelta(days=date3.day)\n",
    "    before = NatGas.loc[date2.strftime('%Y-%m-%d')]['Prices']\n",
    "    after = NatGas.loc[date4.strftime('%Y-%m-%d')]['Prices']\n",
    "    price = before + ((date1.day*(after-before))/date4.day)\n",
    "    return price\n",
    "\n",
    "# Now we will define a function to find the value of the contract\n",
    "def ContractValuation():\n",
    "    # Input injection/withdrawal dates and volumes\n",
    "    print(\"Enter the following parameters that will be used to calculate the value of the contract.\")\n",
    "    print(\"Write dates as YYYY-MM-DD and keep a space between each date and volume.\")\n",
    "    print()\n",
    "    inj_dates = input(\"Enter your injection dates: \").split()\n",
    "    inj_volumes = list(map(float, input(\"Enter your injection volumes (x10^6) for those corresponding dates: \").split(' ')))\n",
    "    print()\n",
    "    with_dates = input(\"Enter your withdrawal dates: \").split()\n",
    "    with_volumes = list(map(float, input(\"Enter your withdrawal volumes (x10^6) for those corresponding dates: \").split(' ')))\n",
    "    \n",
    "    # Checks to ensure dates are correct and valid\n",
    "    if len(inj_dates) != len(inj_volumes):\n",
    "        print()\n",
    "        print(\"The number of injection dates and corresponding injection volumes do not match\")\n",
    "        return\n",
    "    if len(with_dates) != len(with_volumes):\n",
    "        print()\n",
    "        print(\"The number of withdrawal dates and corresponding withdrawal volumes do not match\")\n",
    "        return\n",
    "    \n",
    "    try:\n",
    "        dates3 = pd.to_datetime(inj_dates).date\n",
    "    except:\n",
    "        print()\n",
    "        print(\"The injection dates you have entered are in the incorrect or invalid format\")\n",
    "        return\n",
    "    try:\n",
    "        dates4 = pd.to_datetime(with_dates).date\n",
    "    except:\n",
    "        print()\n",
    "        print(\"The withdrawal dates you have entered are in the incorrect or invalid format\")\n",
    "        return\n",
    "    if ((dates3 > datetime.date(2020,10,31)) & (dates3 < datetime.date(2025,9,30))).all() == False:\n",
    "        print()\n",
    "        print(\"The injection dates are out of the specified range\")\n",
    "        return\n",
    "    if ((dates4 > datetime.date(2020,10,30)) & (dates4 < datetime.date(2025,10,1))).all() == False:\n",
    "        print()\n",
    "        print(\"The withdrawal dates are out of the specified range\")\n",
    "        return\n",
    "    \n",
    "    # Input and verify max volume and costs are correct\n",
    "    print()\n",
    "    capacity = float(input(\"Enter the Maximum Storage Capacity (x10^6): \"))\n",
    "    if capacity < 0:\n",
    "        print()\n",
    "        print(\"The Maximum Storage Capacity is invalid\")\n",
    "        return\n",
    "    print()\n",
    "    cost_iw = float(input(\"Enter the Injection/Withdrawal Cost per 1 million cubic metres of natural gas: \"))\n",
    "    if cost_iw < 0:\n",
    "        print()\n",
    "        print(\"The Injection/Withdrawal Cost is invalid\")\n",
    "        return\n",
    "    print()\n",
    "    cost_storage = float(input(\"Enter the Storage Cost per month: \"))\n",
    "    if cost_storage < 0:\n",
    "        print()\n",
    "        print(\"The Storage Cost is invalid\")\n",
    "        return\n",
    "    print()\n",
    "    cost_transport = float(input(\"Enter the Transport Cost for each instance of transport: \"))\n",
    "    if cost_transport < 0:\n",
    "        print()\n",
    "        print(\"The Transport Cost is invalid\")\n",
    "        return\n",
    "    \n",
    "    # Combine all the injection and withdrawal dates and sort them in ascending order\n",
    "    sorted_dates = sorted(inj_dates+with_dates, key=lambda x: datetime.datetime.strptime(x, '%Y-%m-%d'))\n",
    "    # Initialise volume and revnenue\n",
    "    vol = 0\n",
    "    revenue = 0\n",
    "    # Run a for loop over all dates and depending on if it is an injection or withdrawal date, find the new volume and revenue \n",
    "    for i in range (len(sorted_dates)):\n",
    "        if sorted_dates[i] in inj_dates:\n",
    "            revenue -= (PriceFinder(sorted_dates[i]) * (min(vol + inj_volumes[inj_dates.index(sorted_dates[i])],capacity) - vol) * (10**6))\n",
    "            vol = min(vol + inj_volumes[inj_dates.index(sorted_dates[i])],capacity)\n",
    "        else:\n",
    "            revenue -= (PriceFinder(sorted_dates[i]) * (max(vol - with_volumes[with_dates.index(sorted_dates[i])],0) - vol) * (10**6))\n",
    "            vol = max(vol - with_volumes[with_dates.index(sorted_dates[i])],0)\n",
    "    \n",
    "    # Calculate total storage costs\n",
    "    storage_time = len(pd.date_range(start=sorted_dates[0], end=sorted_dates[-1], freq='M'))\n",
    "    cost_storage = cost_storage * storage_time\n",
    "    \n",
    "    # Calculate total injection/withdrawal costs\n",
    "    cost_iw = cost_iw * sum(inj_volumes+with_volumes) * len(sorted_dates)\n",
    "    # Calculate total transport costs\n",
    "    cost_transport = cost_transport * len(sorted_dates)\n",
    "    \n",
    "    # Calculate value of contract\n",
    "    valuation = revenue - cost_storage - cost_iw - cost_transport\n",
    "    \n",
    "    print()\n",
    "    print()\n",
    "    # Print final value\n",
    "    print('The value of the contract is', valuation, '=', format(valuation/(10**6), '.1f'), 'million approximately')\n",
    "    # Print remaning volume in storage if there is any left\n",
    "    if vol != 0:\n",
    "        print()\n",
    "        print('There is still', vol, 'x10^6 cubic metres of natural gas remaining in the storage')"
   ]
  },
  {
   "cell_type": "code",
   "execution_count": 175,
   "metadata": {},
   "outputs": [
    {
     "name": "stdout",
     "output_type": "stream",
     "text": [
      "Enter the following parameters that will be used to calculate the value of the contract.\n",
      "Write dates as YYYY-MM-DD and keep a space between each date and volume.\n",
      "\n"
     ]
    },
    {
     "name": "stdin",
     "output_type": "stream",
     "text": [
      "Enter your injection dates:  2021-07-31 2021-06-30\n",
      "Enter your injection volumes (x10^6) for those corresponding dates:  10 11\n"
     ]
    },
    {
     "name": "stdout",
     "output_type": "stream",
     "text": [
      "\n"
     ]
    },
    {
     "name": "stdin",
     "output_type": "stream",
     "text": [
      "Enter your withdrawal dates:  2021-12-31 2022-01-31\n",
      "Enter your withdrawal volumes (x10^6) for those corresponding dates:  10 11\n"
     ]
    },
    {
     "name": "stdout",
     "output_type": "stream",
     "text": [
      "\n"
     ]
    },
    {
     "name": "stdin",
     "output_type": "stream",
     "text": [
      "Enter the Maximum Storage Capacity (x10^6):  30\n"
     ]
    },
    {
     "name": "stdout",
     "output_type": "stream",
     "text": [
      "\n"
     ]
    },
    {
     "name": "stdin",
     "output_type": "stream",
     "text": [
      "Enter the Injection/Withdrawal Cost per 1 million cubic metres of natural gas:  20000\n"
     ]
    },
    {
     "name": "stdout",
     "output_type": "stream",
     "text": [
      "\n"
     ]
    },
    {
     "name": "stdin",
     "output_type": "stream",
     "text": [
      "Enter the Storage Cost per month:  1000000\n"
     ]
    },
    {
     "name": "stdout",
     "output_type": "stream",
     "text": [
      "\n"
     ]
    },
    {
     "name": "stdin",
     "output_type": "stream",
     "text": [
      "Enter the Transport Cost for each instance of transport:  300000\n"
     ]
    },
    {
     "name": "stdout",
     "output_type": "stream",
     "text": [
      "\n",
      "\n",
      "The value of the contract is 16940000.0 = 16.9 million approximately\n"
     ]
    }
   ],
   "source": [
    "# Test 1\n",
    "ContractValuation()"
   ]
  },
  {
   "cell_type": "code",
   "execution_count": 176,
   "metadata": {},
   "outputs": [
    {
     "name": "stdout",
     "output_type": "stream",
     "text": [
      "Enter the following parameters that will be used to calculate the value of the contract.\n",
      "Write dates as YYYY-MM-DD and keep a space between each date and volume.\n",
      "\n"
     ]
    },
    {
     "name": "stdin",
     "output_type": "stream",
     "text": [
      "Enter your injection dates:  2022-06-05 2023-07-12 2024-08-27\n",
      "Enter your injection volumes (x10^6) for those corresponding dates:  20 15 30\n"
     ]
    },
    {
     "name": "stdout",
     "output_type": "stream",
     "text": [
      "\n"
     ]
    },
    {
     "name": "stdin",
     "output_type": "stream",
     "text": [
      "Enter your withdrawal dates:  2025-01-04 2022-12-23 2023-12-16\n",
      "Enter your withdrawal volumes (x10^6) for those corresponding dates:  30 10 25\n"
     ]
    },
    {
     "name": "stdout",
     "output_type": "stream",
     "text": [
      "\n"
     ]
    },
    {
     "name": "stdin",
     "output_type": "stream",
     "text": [
      "Enter the Maximum Storage Capacity (x10^6):  40\n"
     ]
    },
    {
     "name": "stdout",
     "output_type": "stream",
     "text": [
      "\n"
     ]
    },
    {
     "name": "stdin",
     "output_type": "stream",
     "text": [
      "Enter the Injection/Withdrawal Cost per 1 million cubic metres of natural gas:  20000\n"
     ]
    },
    {
     "name": "stdout",
     "output_type": "stream",
     "text": [
      "\n"
     ]
    },
    {
     "name": "stdin",
     "output_type": "stream",
     "text": [
      "Enter the Storage Cost per month:  1000000\n"
     ]
    },
    {
     "name": "stdout",
     "output_type": "stream",
     "text": [
      "\n"
     ]
    },
    {
     "name": "stdin",
     "output_type": "stream",
     "text": [
      "Enter the Transport Cost for each instance of transport:  300000\n"
     ]
    },
    {
     "name": "stdout",
     "output_type": "stream",
     "text": [
      "\n",
      "\n",
      "The value of the contract is 63570967.74193549 = 63.6 million approximately\n"
     ]
    }
   ],
   "source": [
    "# Test 2\n",
    "ContractValuation()"
   ]
  },
  {
   "cell_type": "code",
   "execution_count": 180,
   "metadata": {},
   "outputs": [
    {
     "name": "stdout",
     "output_type": "stream",
     "text": [
      "Enter the following parameters that will be used to calculate the value of the contract.\n",
      "Write dates as YYYY-MM-DD and keep a space between each date and volume.\n",
      "\n"
     ]
    },
    {
     "name": "stdin",
     "output_type": "stream",
     "text": [
      "Enter your injection dates:  2021-06-29 2022-07-02 2023-07-10 2024-07-07 2025-06-24\n",
      "Enter your injection volumes (x10^6) for those corresponding dates:  6 14 21 15 8\n"
     ]
    },
    {
     "name": "stdout",
     "output_type": "stream",
     "text": [
      "\n"
     ]
    },
    {
     "name": "stdin",
     "output_type": "stream",
     "text": [
      "Enter your withdrawal dates:  2024-12-26 2023-01-12 2022-01-04 2025-09-30 2023-12-18\n",
      "Enter your withdrawal volumes (x10^6) for those corresponding dates:  11 13 4 18 18\n"
     ]
    },
    {
     "name": "stdout",
     "output_type": "stream",
     "text": [
      "\n"
     ]
    },
    {
     "name": "stdin",
     "output_type": "stream",
     "text": [
      "Enter the Maximum Storage Capacity (x10^6):  100\n"
     ]
    },
    {
     "name": "stdout",
     "output_type": "stream",
     "text": [
      "\n"
     ]
    },
    {
     "name": "stdin",
     "output_type": "stream",
     "text": [
      "Enter the Injection/Withdrawal Cost per 1 million cubic metres of natural gas:  20000\n"
     ]
    },
    {
     "name": "stdout",
     "output_type": "stream",
     "text": [
      "\n"
     ]
    },
    {
     "name": "stdin",
     "output_type": "stream",
     "text": [
      "Enter the Storage Cost per month:  1000000\n"
     ]
    },
    {
     "name": "stdout",
     "output_type": "stream",
     "text": [
      "\n"
     ]
    },
    {
     "name": "stdin",
     "output_type": "stream",
     "text": [
      "Enter the Transport Cost for each instance of transport:  300000\n"
     ]
    },
    {
     "name": "stdout",
     "output_type": "stream",
     "text": [
      "\n",
      "\n",
      "The value of the contract is 11651741.935483843 = 11.7 million approximately\n"
     ]
    }
   ],
   "source": [
    "# Test 3\n",
    "ContractValuation()"
   ]
  },
  {
   "cell_type": "code",
   "execution_count": 184,
   "metadata": {},
   "outputs": [
    {
     "name": "stdout",
     "output_type": "stream",
     "text": [
      "Enter the following parameters that will be used to calculate the value of the contract.\n",
      "Write dates as YYYY-MM-DD and keep a space between each date and volume.\n",
      "\n"
     ]
    },
    {
     "name": "stdin",
     "output_type": "stream",
     "text": [
      "Enter your injection dates:  2023-07-14 2021-06-27\n",
      "Enter your injection volumes (x10^6) for those corresponding dates:  19 12\n"
     ]
    },
    {
     "name": "stdout",
     "output_type": "stream",
     "text": [
      "\n"
     ]
    },
    {
     "name": "stdin",
     "output_type": "stream",
     "text": [
      "Enter your withdrawal dates:  2022-12-29 2024-01-12 2023-01-05\n",
      "Enter your withdrawal volumes (x10^6) for those corresponding dates:  4 15 10\n"
     ]
    },
    {
     "name": "stdout",
     "output_type": "stream",
     "text": [
      "\n"
     ]
    },
    {
     "name": "stdin",
     "output_type": "stream",
     "text": [
      "Enter the Maximum Storage Capacity (x10^6):  50\n"
     ]
    },
    {
     "name": "stdout",
     "output_type": "stream",
     "text": [
      "\n"
     ]
    },
    {
     "name": "stdin",
     "output_type": "stream",
     "text": [
      "Enter the Injection/Withdrawal Cost per 1 million cubic metres of natural gas:  20000\n"
     ]
    },
    {
     "name": "stdout",
     "output_type": "stream",
     "text": [
      "\n"
     ]
    },
    {
     "name": "stdin",
     "output_type": "stream",
     "text": [
      "Enter the Storage Cost per month:  400000\n"
     ]
    },
    {
     "name": "stdout",
     "output_type": "stream",
     "text": [
      "\n"
     ]
    },
    {
     "name": "stdin",
     "output_type": "stream",
     "text": [
      "Enter the Transport Cost for each instance of transport:  300000\n"
     ]
    },
    {
     "name": "stdout",
     "output_type": "stream",
     "text": [
      "\n",
      "\n",
      "The value of the contract is -20414451.612903237 = -20.4 million approximately\n",
      "\n",
      "There is still 4.0 x10^6 cubic metres of natural gas remaining in the storage\n"
     ]
    }
   ],
   "source": [
    "# Test 4\n",
    "ContractValuation()"
   ]
  }
 ],
 "metadata": {
  "kernelspec": {
   "display_name": "Python 3",
   "language": "python",
   "name": "python3"
  },
  "language_info": {
   "codemirror_mode": {
    "name": "ipython",
    "version": 3
   },
   "file_extension": ".py",
   "mimetype": "text/x-python",
   "name": "python",
   "nbconvert_exporter": "python",
   "pygments_lexer": "ipython3",
   "version": "3.8.5"
  }
 },
 "nbformat": 4,
 "nbformat_minor": 4
}
